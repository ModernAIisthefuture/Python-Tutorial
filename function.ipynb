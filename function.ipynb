{
 "cells": [
  {
   "cell_type": "code",
   "execution_count": 4,
   "id": "82fd2629",
   "metadata": {},
   "outputs": [
    {
     "name": "stdout",
     "output_type": "stream",
     "text": [
      "total value: 30\n"
     ]
    }
   ],
   "source": [
    "def sum( arg1, arg2 ):\n",
    "    \"Add both the parameters and return them.\"\n",
    "    total = arg1 + arg2\n",
    "    return total\n",
    "# Now you can call sum function\n",
    "x= sum( 10, 20 )\n",
    "print( \"total value:\", x)"
   ]
  },
  {
   "cell_type": "code",
   "execution_count": 16,
   "id": "ee45c12b",
   "metadata": {},
   "outputs": [
    {
     "name": "stdout",
     "output_type": "stream",
     "text": [
      "first calling\n"
     ]
    },
    {
     "ename": "TypeError",
     "evalue": "printsome() missing 1 required positional argument: 'x'",
     "output_type": "error",
     "traceback": [
      "\u001b[1;31m---------------------------------------------------------------------------\u001b[0m",
      "\u001b[1;31mTypeError\u001b[0m                                 Traceback (most recent call last)",
      "Cell \u001b[1;32mIn[16], line 7\u001b[0m\n\u001b[0;32m      5\u001b[0m \u001b[38;5;66;03m# calling printsome function\u001b[39;00m\n\u001b[0;32m      6\u001b[0m printsome(\u001b[38;5;124m\"\u001b[39m\u001b[38;5;124mfirst calling\u001b[39m\u001b[38;5;124m\"\u001b[39m)\n\u001b[1;32m----> 7\u001b[0m printsome()\n",
      "\u001b[1;31mTypeError\u001b[0m: printsome() missing 1 required positional argument: 'x'"
     ]
    }
   ],
   "source": [
    "#Required arguments\n",
    "def printsome( x):\n",
    "    \"printing a string\"\n",
    "    print(x)\n",
    "# calling printsome function\n",
    "printsome(\"first calling\")\n",
    "printsome()"
   ]
  },
  {
   "cell_type": "code",
   "execution_count": 15,
   "id": "ab681018",
   "metadata": {},
   "outputs": [
    {
     "name": "stdout",
     "output_type": "stream",
     "text": [
      "10\n"
     ]
    }
   ],
   "source": [
    "#Keyword arguments\n",
    "def printsome( x ):\n",
    "    \"printing a string\"\n",
    "    print(x)\n",
    "# Now you can call printsome function\n",
    "printsome(x=10)"
   ]
  },
  {
   "cell_type": "code",
   "execution_count": 14,
   "id": "10300365",
   "metadata": {},
   "outputs": [
    {
     "name": "stdout",
     "output_type": "stream",
     "text": [
      "Name:  piyush\n",
      "Age  50\n",
      "Name:  piyush\n",
      "Age  35\n"
     ]
    }
   ],
   "source": [
    "#Default arguments\n",
    "def printinfo( name, age = 35 ):\n",
    "    \"This prints a passed info into this function\"\n",
    "    print (\"Name: \", name)\n",
    "    print (\"Age \", age)\n",
    "# Now you can call printinfo function\n",
    "printinfo( age=50, name=\"piyush\" )\n",
    "printinfo( name=\"piyush\" )"
   ]
  },
  {
   "cell_type": "code",
   "execution_count": 11,
   "id": "0410f702",
   "metadata": {},
   "outputs": [
    {
     "name": "stdout",
     "output_type": "stream",
     "text": [
      "Output is\n",
      "argument value: 10\n",
      "Output is\n",
      "argument value: 70\n",
      "tuple value: 60\n",
      "tuple value: 50\n"
     ]
    }
   ],
   "source": [
    "#Variable-length arguments\n",
    "def printinfo( arg1, *vartuple ):\n",
    "    \"This prints a variable passed arguments\"\n",
    "    print(\"Output is\")\n",
    "    print(\"argument value:\",arg1)\n",
    "    for var in vartuple:\n",
    "        print(\"tuple value:\",var)\n",
    "# Now you can call printinfo function\n",
    "printinfo(10)\n",
    "printinfo(70, 60, 50)"
   ]
  },
  {
   "cell_type": "code",
   "execution_count": 13,
   "id": "aaa2d3da",
   "metadata": {},
   "outputs": [
    {
     "name": "stdout",
     "output_type": "stream",
     "text": [
      "(2, 3, 5, 6)\n",
      "{}\n",
      "(2, 3, 5, 6)\n",
      "{'c': 8, 'd': 9, 'e': 'abc', 'f': 'xyz'}\n",
      "c 8\n",
      "d 9\n",
      "e abc\n",
      "f xyz\n"
     ]
    }
   ],
   "source": [
    "def fun1(*tup1, **dict1):\n",
    "    print(tup1)\n",
    "    print(dict1)\n",
    "    for k,v in dict1.items():\n",
    "        print(k,v)\n",
    "fun1(2,3,5,6)\n",
    "fun1(2,3,5,6,c=8,d=9,e=\"abc\",f=\"xyz\")"
   ]
  },
  {
   "cell_type": "code",
   "execution_count": null,
   "id": "066c98d1",
   "metadata": {},
   "outputs": [],
   "source": []
  }
 ],
 "metadata": {
  "kernelspec": {
   "display_name": "Python 3 (ipykernel)",
   "language": "python",
   "name": "python3"
  },
  "language_info": {
   "codemirror_mode": {
    "name": "ipython",
    "version": 3
   },
   "file_extension": ".py",
   "mimetype": "text/x-python",
   "name": "python",
   "nbconvert_exporter": "python",
   "pygments_lexer": "ipython3",
   "version": "3.11.4"
  }
 },
 "nbformat": 4,
 "nbformat_minor": 5
}
